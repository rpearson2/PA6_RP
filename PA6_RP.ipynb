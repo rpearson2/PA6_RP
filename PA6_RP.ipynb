{
 "cells": [
  {
   "cell_type": "markdown",
   "id": "7849d716",
   "metadata": {},
   "source": [
    "* Robert Pearson\n",
    "* Assignment 6\n",
    "* Version 1\n",
    "* Fall 2023"
   ]
  },
  {
   "cell_type": "markdown",
   "id": "d1152141",
   "metadata": {},
   "source": [
    "Task1: Write a Python program will calculate the area and perimeter of a triangle using two different functions\n",
    "named calcArea() and calcPerimeter(). Your program should prompt the user for the length of three\n",
    "sides of the triangle. Each function should take the lengths of the sides as arguments and return the output of\n",
    "their respective calculations. As an added feature, set the default values of your parameters to 1 so if you call\n",
    "either function without parameters, it will still produce output) (I recommend using Heron’s Method for\n",
    "calculating the area of a triangle.)"
   ]
  },
  {
   "cell_type": "code",
   "execution_count": 18,
   "id": "4339db2a",
   "metadata": {},
   "outputs": [
    {
     "name": "stdout",
     "output_type": "stream",
     "text": [
      "Enter the length of side A: 5\n",
      "Enter the length of side B: 5\n",
      "Enter the length of side C: 5\n",
      "The area of the triangle is approximately 10.825318 square units.\n",
      "The perimeter of the triangle is approximately 15 linear units.\n",
      "The area of the triangle is approximately 0.433013 square units.\n",
      "The perimeter of the triangle is approximately 3 linear units.\n"
     ]
    }
   ],
   "source": [
    "import math\n",
    "def calcArea(a=1,b=1,c=1):\n",
    "    s= (a+b+c)/2\n",
    "    area=(s*(s-a)*(s-b)*(s-c))**.5\n",
    "    print(f\"The area of the triangle is approximately {area:.6f} square units.\")\n",
    "def calcPerimeter(a=1,b=1,c=1):\n",
    "    perimeter=a+b+c\n",
    "    print(f\"The perimeter of the triangle is approximately {perimeter} linear units.\")\n",
    "a=int(input(\"Enter the length of side A: \"))\n",
    "b=int(input(\"Enter the length of side B: \"))\n",
    "c=int(input(\"Enter the length of side C: \"))\n",
    "calcArea(a,b,c)\n",
    "calcPerimeter(a,b,c)\n",
    "area = calcArea()\n",
    "perimeter = calcPerimeter()"
   ]
  },
  {
   "cell_type": "markdown",
   "id": "8421d2e6",
   "metadata": {},
   "source": [
    "Task2: Write a Python program to play “Guess the Number”. Your program should generate a random\n",
    "number between 1 and 1000 and then prompt the user for a guess. Possible responses to the guess should be\n",
    "‘Too high! Guess again’, ‘Too low! Guess again’, and ‘Correct!’."
   ]
  },
  {
   "cell_type": "code",
   "execution_count": 1,
   "id": "a05325f6",
   "metadata": {},
   "outputs": [
    {
     "name": "stdout",
     "output_type": "stream",
     "text": [
      "Enter your guess: 500\n",
      "Too high! Guess again.\n",
      "Enter your guess: 250\n",
      "Too low! Guess again.\n",
      "Enter your guess: 400\n",
      "Too low! Guess again.\n",
      "Enter your guess: 450\n",
      "Too low! Guess again.\n",
      "Enter your guess: 475\n",
      "Too low! Guess again.\n",
      "Enter your guess: 490\n",
      "Too high! Guess again.\n",
      "Enter your guess: 485\n",
      "You guessed the correct number!\n"
     ]
    }
   ],
   "source": [
    "import random\n",
    "\n",
    "active=True\n",
    "y=random.randint(1,1000)\n",
    "def evaluateGuess(x):\n",
    "        if x==y:\n",
    "            print(\"You guessed the correct number!\")\n",
    "        elif x>y:\n",
    "            print(\"Too high! Guess again.\")\n",
    "        elif x<y:\n",
    "            print(\"Too low! Guess again.\")\n",
    "            \n",
    "while active:\n",
    "    x=int(input(\"Enter your guess: \"))\n",
    "    if x!=y:\n",
    "        evaluateGuess(x)\n",
    "    else:\n",
    "        evaluateGuess(x)\n",
    "        break\n"
   ]
  },
  {
   "cell_type": "markdown",
   "id": "75cada4a",
   "metadata": {},
   "source": [
    "Task3: Write a Python program to calculate the mean temperature over a set of Fahrenheit temperature\n",
    "values. Your program should calculate the mean in a function called meanTemp()and then print message that\n",
    "indicates the number of days your mean represents and the mean (see below). Your function should be flexible\n",
    "so that you can pass any number of temperatures to it. You do not need to get input from the user; simply\n",
    "include the temperatures in the function parameter list. Here is a sample run of the program:"
   ]
  },
  {
   "cell_type": "code",
   "execution_count": 20,
   "id": "70cad12f",
   "metadata": {},
   "outputs": [
    {
     "name": "stdout",
     "output_type": "stream",
     "text": [
      "The mean temperature for the past 2 days is 71.50 degrees F.\n",
      "The mean temperature for the past 4 days is 71.75 degrees F.\n",
      "The mean temperature for the past 7 days is 71.29 degrees F.\n"
     ]
    }
   ],
   "source": [
    "def meanTemp(x):\n",
    "    temp=[70,73,75,69,67,74,71]\n",
    "    Sum=sum(temp[:x])\n",
    "    Len=x\n",
    "    mean=Sum/Len\n",
    "    print(f\"The mean temperature for the past {x} days is {mean:.2f} degrees F.\")\n",
    "    \n",
    "meanTemp(2)\n",
    "meanTemp(4)\n",
    "meanTemp(7)"
   ]
  },
  {
   "cell_type": "code",
   "execution_count": null,
   "id": "c2be032a",
   "metadata": {},
   "outputs": [],
   "source": []
  }
 ],
 "metadata": {
  "kernelspec": {
   "display_name": "Python 3 (ipykernel)",
   "language": "python",
   "name": "python3"
  },
  "language_info": {
   "codemirror_mode": {
    "name": "ipython",
    "version": 3
   },
   "file_extension": ".py",
   "mimetype": "text/x-python",
   "name": "python",
   "nbconvert_exporter": "python",
   "pygments_lexer": "ipython3",
   "version": "3.11.4"
  }
 },
 "nbformat": 4,
 "nbformat_minor": 5
}
